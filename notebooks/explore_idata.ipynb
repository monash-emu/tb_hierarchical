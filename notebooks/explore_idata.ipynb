{
 "cells": [
  {
   "cell_type": "code",
   "execution_count": null,
   "id": "991e638d",
   "metadata": {},
   "outputs": [],
   "source": [
    "import arviz as az\n",
    "from pathlib import Path\n",
    "from tbh.paths import OUTPUT_PARENT_FOLDER\n",
    "\n",
    "import tbh.plotting as pl"
   ]
  },
  {
   "cell_type": "code",
   "execution_count": null,
   "id": "18db76b5",
   "metadata": {},
   "outputs": [],
   "source": [
    "analysis_path = OUTPUT_PARENT_FOLDER / \"44315498_multi_configs\" / \"task_1\"\n",
    "idata = az.from_netcdf(analysis_path / \"idata.nc\")\n",
    "burn_in = 20000"
   ]
  },
  {
   "cell_type": "code",
   "execution_count": null,
   "id": "67ff901e",
   "metadata": {},
   "outputs": [],
   "source": [
    "list(idata.posterior.keys())"
   ]
  },
  {
   "cell_type": "code",
   "execution_count": null,
   "id": "4313e4be",
   "metadata": {},
   "outputs": [],
   "source": [
    "\n",
    "from importlib import reload\n",
    "reload(pl);"
   ]
  },
  {
   "cell_type": "code",
   "execution_count": null,
   "id": "524eb156",
   "metadata": {},
   "outputs": [],
   "source": [
    "pl.plot_multiple_posteriors(idata, burn_in, req_vars=[\n",
    "    'hyper_mean_lifelong', 'lifelong_activation_riskXmajuro', 'lifelong_activation_riskXvietnam'\n",
    "    ]\n",
    ")"
   ]
  },
  {
   "cell_type": "code",
   "execution_count": null,
   "id": "1382e53a",
   "metadata": {},
   "outputs": [],
   "source": []
  }
 ],
 "metadata": {
  "kernelspec": {
   "display_name": "default",
   "language": "python",
   "name": "python3"
  },
  "language_info": {
   "codemirror_mode": {
    "name": "ipython",
    "version": 3
   },
   "file_extension": ".py",
   "mimetype": "text/x-python",
   "name": "python",
   "nbconvert_exporter": "python",
   "pygments_lexer": "ipython3",
   "version": "3.10.17"
  }
 },
 "nbformat": 4,
 "nbformat_minor": 5
}
