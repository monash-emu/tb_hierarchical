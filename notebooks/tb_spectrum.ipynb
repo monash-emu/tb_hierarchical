{
 "cells": [
  {
   "cell_type": "code",
   "execution_count": null,
   "id": "c235a256",
   "metadata": {},
   "outputs": [],
   "source": [
    "from summer2 import CompartmentalModel, Stratification\n",
    "from summer2.parameters import Parameter, DerivedOutput"
   ]
  },
  {
   "cell_type": "code",
   "execution_count": null,
   "id": "c1c91ec5",
   "metadata": {},
   "outputs": [],
   "source": [
    "compartments = [\"cleared\", \"stable\", \"L\", \"I\"]\n",
    "\n",
    "model = CompartmentalModel(\n",
    "    times=(0, 2000),\n",
    "    compartments=compartments,\n",
    "    infectious_compartments=(),\n",
    ")\n",
    "model.set_initial_population(\n",
    "    distribution={\n",
    "        \"L\": 100\n",
    "    },\n",
    ")\n",
    "\n",
    "model.add_transition_flow(\n",
    "    name=\"stabilisation\",\n",
    "    fractional_rate=Parameter(\"stabilisation_rate\"),\n",
    "    source=\"L\",\n",
    "    dest=\"stable\",\n",
    ")\n",
    "\n",
    "model.add_transition_flow(\n",
    "    name=\"destabilisation\",\n",
    "    fractional_rate=Parameter(\"destabilisation_rate\"),\n",
    "    source=\"stable\",\n",
    "    dest=\"L\",\n",
    ")\n",
    "\n",
    "model.add_transition_flow(\n",
    "    name=\"clearance\",\n",
    "    fractional_rate=Parameter(\"clearance_rate\"),\n",
    "    source=\"stable\",\n",
    "    dest=\"cleared\",\n",
    ")\n",
    "\n",
    "model.add_transition_flow(\n",
    "    name=\"activation\",\n",
    "    fractional_rate=Parameter(\"activation_rate\"),\n",
    "    source=\"L\",\n",
    "    dest=\"I\",\n",
    ")\n",
    "\n",
    "model.request_output_for_compartments(name=\"active\", compartments=[\"I\"])\n",
    "# # transition flows\n",
    "# for i, (first_comp, second_comp) in enumerate(zip(compartments[:-2], compartments[1:-1])):\n",
    "#     # add forward progression flow\n",
    "#     model.add_transition_flow(\n",
    "#         name=f\"progress_{i + 1}\",\n",
    "#         fractional_rate=Parameter(\"progression_rate\") * n_infected_comps,\n",
    "#         source=first_comp,\n",
    "#         dest=second_comp,\n",
    "#     )\n",
    "#     # add backward transition flow\n",
    "#     model.add_transition_flow(\n",
    "#         name=f\"regress_{i + 1}\",\n",
    "#         fractional_rate=Parameter(\"regression_rate\") * n_infected_comps,\n",
    "#         source=second_comp,\n",
    "#         dest=first_comp\n",
    "#     )\n",
    "\n",
    "\n",
    "# # Split infected compartments into two categories\n",
    "# midpoint = (n_infected_comps + 1) // 2  # ensures the first half is larger if n_comps is odd\n",
    "# model.request_output_for_compartments(\"early_infections\", compartments[:midpoint])\n",
    "# model.request_output_for_compartments(\"late_infections\", compartments[midpoint:-1])\n",
    "\n"
   ]
  },
  {
   "cell_type": "code",
   "execution_count": null,
   "id": "56dffe03",
   "metadata": {},
   "outputs": [],
   "source": [
    "model.get_input_parameters()"
   ]
  },
  {
   "cell_type": "code",
   "execution_count": null,
   "id": "57680245",
   "metadata": {},
   "outputs": [],
   "source": [
    "parameters = {\n",
    "    \"activation_rate\": 0.0015,\n",
    "    \"stabilisation_rate\": .035,\n",
    "    \"destabilisation_rate\": 0.004,\n",
    "    \"clearance_rate\": 0.004,\n",
    "}\n",
    "\n",
    "model.run(parameters)\n",
    "model.get_outputs_df()['I'].plot()"
   ]
  },
  {
   "cell_type": "code",
   "execution_count": null,
   "id": "85182451",
   "metadata": {},
   "outputs": [],
   "source": [
    "# From Plot Digitiser\n",
    "times = [37.681116441846726, 110.14490907569247, 684.0581706190745, 1347.8260653230773, 1985.507201667693]\n",
    "active = [2.77852236374588, 6.362416253520102, 9.684563775206678, 10.02684570601338, 10.187919250839851]\n",
    "\n",
    "from estival import priors as esp\n",
    "from estival import targets as est\n",
    "from estival.model import BayesianCompartmentalModel\n",
    "import pandas as pd\n",
    "\n",
    "target = est.NormalTarget(\n",
    "            \"active\", \n",
    "            data= pd.Series(data=active, index=[round(x) for x in times]), \n",
    "            stdev=.5,  # 4.sd = 95%CI\n",
    "        )\n",
    "\n",
    "priors = [\n",
    "    esp.UniformPrior(\"activation_rate\", [.00001, .005]),\n",
    "    esp.UniformPrior(\"stabilisation_rate\", [.00001, .05]),\n",
    "    esp.UniformPrior(\"destabilisation_rate\", [.00001, .05]),\n",
    "    esp.UniformPrior(\"clearance_rate\", [.00001, .005])\n",
    "]\n",
    "\n",
    "bcm = BayesianCompartmentalModel(model,parameters, priors, [target])"
   ]
  },
  {
   "cell_type": "code",
   "execution_count": null,
   "id": "5bcf1666",
   "metadata": {},
   "outputs": [],
   "source": [
    "from tbh.runner_tools import run_metropolis_calibration, run_full_runs"
   ]
  },
  {
   "cell_type": "code",
   "execution_count": null,
   "id": "7fb6c3b0",
   "metadata": {},
   "outputs": [],
   "source": [
    "idata = run_metropolis_calibration(bcm, draws=5000, tune=1000, cores=4,\n",
    "    chains=4,\n",
    "    method=\"DEMetropolisZ\",)"
   ]
  },
  {
   "cell_type": "code",
   "execution_count": null,
   "id": "11dde848",
   "metadata": {},
   "outputs": [],
   "source": [
    "from tbh import plotting as pl\n",
    "\n",
    "burn_in = 2500\n",
    "output_folder = None\n",
    "pl.plot_traces(idata, burn_in, output_folder)\n",
    "pl.plot_post_prior_comparison(idata, burn_in, list(bcm.priors.keys()), list(bcm.priors.values()), n_col=4, output_folder_path=output_folder)\n",
    "\n"
   ]
  },
  {
   "cell_type": "code",
   "execution_count": null,
   "id": "05146ae7",
   "metadata": {},
   "outputs": [],
   "source": [
    "from matplotlib import pyplot as plt\n",
    "\n",
    "full_runs, unc_df = run_full_runs(bcm, idata, burn_in, 500)\n",
    "_, ax = plt.subplots()\n",
    "pl.plot_model_fit_with_uncertainty(ax, unc_df, 'active', bcm, x_min=0)\n",
    "ax.set_xlabel(\"days\")\n",
    "ax.set_ylabel(\"% active\")"
   ]
  },
  {
   "cell_type": "code",
   "execution_count": null,
   "id": "7d74afe5",
   "metadata": {},
   "outputs": [],
   "source": []
  },
  {
   "cell_type": "code",
   "execution_count": null,
   "id": "97e4a326",
   "metadata": {},
   "outputs": [],
   "source": []
  }
 ],
 "metadata": {
  "kernelspec": {
   "display_name": "default",
   "language": "python",
   "name": "python3"
  },
  "language_info": {
   "codemirror_mode": {
    "name": "ipython",
    "version": 3
   },
   "file_extension": ".py",
   "mimetype": "text/x-python",
   "name": "python",
   "nbconvert_exporter": "python",
   "pygments_lexer": "ipython3",
   "version": "3.10.17"
  }
 },
 "nbformat": 4,
 "nbformat_minor": 5
}
