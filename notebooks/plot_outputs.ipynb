{
 "cells": [
  {
   "cell_type": "code",
   "execution_count": null,
   "id": "3579ad22",
   "metadata": {},
   "outputs": [],
   "source": [
    "import arviz as az\n",
    "import pandas as pd\n",
    "from pathlib import Path\n",
    "from tbh.paths import REPO_ROOT_PATH, OUTPUT_PARENT_FOLDER\n",
    "\n",
    "from matplotlib import pyplot as plt \n",
    "plt.style.use(\"ggplot\")\n",
    "\n",
    "\n",
    "import tbh.plotting as pl"
   ]
  },
  {
   "cell_type": "markdown",
   "id": "b6d2827a",
   "metadata": {},
   "source": [
    "## Load outputs"
   ]
  },
  {
   "cell_type": "code",
   "execution_count": null,
   "id": "6aaed924",
   "metadata": {},
   "outputs": [],
   "source": [
    "from ipyfilechooser import FileChooser\n",
    "\n",
    "fc = FileChooser('/Users/rrag0004/Documents/Code/tb_hierarchical/remote_cluster/outputs/')\n",
    "fc.title = '<b>Select a folder</b>'\n",
    "fc.show_only_dirs = True  # only allow directory selection\n",
    "display(fc)"
   ]
  },
  {
   "cell_type": "code",
   "execution_count": null,
   "id": "bc5b0cdc",
   "metadata": {},
   "outputs": [],
   "source": [
    "analysis_path = Path(fc.selected_path)"
   ]
  },
  {
   "cell_type": "code",
   "execution_count": null,
   "id": "f308c098",
   "metadata": {},
   "outputs": [],
   "source": [
    "# analysis_path = REPO_ROOT_PATH / \"notebooks\" / \"test_outputs\" / \"test_full_analysis_scenarios_dfs\"\n",
    "# analysis_path = OUTPUT_PARENT_FOLDER / \"47349265_full_analysis_1scenario\" / \"task_1\"\n",
    "# analysis_path = REPO_ROOT_PATH / \"notebooks\" / \"test_outputs\" / \"test_loading\""
   ]
  },
  {
   "cell_type": "code",
   "execution_count": null,
   "id": "421bcee2",
   "metadata": {},
   "outputs": [],
   "source": [
    "(analysis_path / \"figures\").mkdir(exist_ok=True)"
   ]
  },
  {
   "cell_type": "code",
   "execution_count": null,
   "id": "b5facdec",
   "metadata": {},
   "outputs": [],
   "source": [
    "intervention_scenarios = [\"scenario_1\", \"scenario_2\", \"scenario_3\"]\n",
    "all_scenarios = ['baseline'] + intervention_scenarios\n",
    "unc_dfs = {\n",
    "    sc: pd.read_parquet(analysis_path / f\"uncertainty_df_{sc}.parquet\") for sc in all_scenarios\n",
    "}\n",
    "diff_outputs_dfs = {\n",
    "    sc: pd.read_parquet(analysis_path / f\"diff_quantiles_df_ref_baseline_{sc}.parquet\") for sc in intervention_scenarios\n",
    "}"
   ]
  },
  {
   "cell_type": "markdown",
   "id": "836e8c05",
   "metadata": {},
   "source": [
    "## Plot model fits to calibration targets"
   ]
  },
  {
   "cell_type": "code",
   "execution_count": null,
   "id": "76251894",
   "metadata": {},
   "outputs": [],
   "source": [
    "import yaml\n",
    "\n",
    "with open(analysis_path / \"details.yaml\" , \"r\") as f:\n",
    "    docs = list(yaml.safe_load_all(f))\n",
    "\n",
    "model_config = docs[1]\n",
    "analysis_config = docs[2]"
   ]
  },
  {
   "cell_type": "code",
   "execution_count": null,
   "id": "d56f956b",
   "metadata": {},
   "outputs": [],
   "source": [
    "from tbh import runner_tools as rt\n",
    "from tbh.model import get_tb_model\n",
    "from estival.model import BayesianCompartmentalModel\n",
    "\n",
    "\n",
    "params, priors, tv_params = rt.get_parameters_and_priors()\n",
    "\n",
    "model = get_tb_model(model_config, tv_params)\n",
    "bcm = BayesianCompartmentalModel(model, params, priors, rt.targets)"
   ]
  },
  {
   "cell_type": "code",
   "execution_count": null,
   "id": "45284dcc",
   "metadata": {},
   "outputs": [],
   "source": [
    "pl.plot_age_spec_tbi_prev(unc_dfs['baseline'], bcm)"
   ]
  },
  {
   "cell_type": "code",
   "execution_count": null,
   "id": "5ce33fff",
   "metadata": {},
   "outputs": [],
   "source": [
    "unc_dfs['baseline']['measured_tbi_prevalenceXage_10_perc'].loc[2024].index"
   ]
  },
  {
   "cell_type": "code",
   "execution_count": null,
   "id": "4b4fea13",
   "metadata": {},
   "outputs": [],
   "source": [
    "selected_outputs = bcm.targets.keys()\n",
    "for output in selected_outputs:\n",
    "    _, ax = plt.subplots()\n",
    "    pl.plot_model_fit_with_uncertainty(ax, unc_dfs['baseline'], output, bcm, x_lim=(2010, 2025))\n",
    "    \n",
    "    plt.savefig(analysis_path / \"figures\" / f\"fit_{output}.jpg\", facecolor=\"white\", bbox_inches='tight')"
   ]
  },
  {
   "cell_type": "markdown",
   "id": "b0a5c3af",
   "metadata": {},
   "source": [
    "## Scenario comparison over time"
   ]
  },
  {
   "cell_type": "code",
   "execution_count": null,
   "id": "2330a8b8",
   "metadata": {},
   "outputs": [],
   "source": [
    "outputs_to_plot = ['tb_incidence_per100k', 'tbi_prevalence_perc', 'tb_mortality_per100k']\n",
    "\n",
    "for sc in intervention_scenarios:\n",
    "    for output in outputs_to_plot:\n",
    "        fig, ax = plt.subplots(1, 1)\n",
    "        pl.plot_two_scenarios(ax, unc_dfs, output, scenarios=['baseline', sc], xlim=(2015,2050), include_unc=True)\n",
    "\n",
    "        plt.savefig(analysis_path / \"figures\" / f\"{sc}_{output}.png\")\n"
   ]
  },
  {
   "cell_type": "markdown",
   "id": "5494b677",
   "metadata": {},
   "source": [
    "## Cumulative outputs over 2020-2050"
   ]
  },
  {
   "cell_type": "code",
   "execution_count": null,
   "id": "21dcbc73",
   "metadata": {},
   "outputs": [],
   "source": [
    "for output in ['cum_tb_incidence', 'cum_tb_mortality']:\n",
    "\n",
    "    fig, ax = plt.subplots(1, 1)\n",
    "    pl.plot_final_size_compare(ax,unc_dfs, output, all_scenarios)\n",
    "\n",
    "    plt.savefig(analysis_path / \"figures\" / f\"cumulative_{output}.png\")\n"
   ]
  },
  {
   "cell_type": "markdown",
   "id": "9bbb361a",
   "metadata": {},
   "source": [
    "## Differential cumulative outputs over 2020-2050"
   ]
  },
  {
   "cell_type": "code",
   "execution_count": null,
   "id": "5aefe8f6",
   "metadata": {},
   "outputs": [],
   "source": [
    "for output in [\"TB_averted\", \"TB_averted_relative\"]:\n",
    "\n",
    "    fig, ax = plt.subplots(1, 1)\n",
    "    pl.plot_diff_outputs(ax, diff_outputs_dfs, output, intervention_scenarios)\n",
    "\n",
    "    plt.savefig(analysis_path / \"figures\" / f\"diff_{output}.png\")"
   ]
  },
  {
   "cell_type": "code",
   "execution_count": null,
   "id": "b9fdf2fa",
   "metadata": {},
   "outputs": [],
   "source": []
  },
  {
   "cell_type": "code",
   "execution_count": null,
   "id": "d10e71f5",
   "metadata": {},
   "outputs": [],
   "source": []
  }
 ],
 "metadata": {
  "kernelspec": {
   "display_name": "default",
   "language": "python",
   "name": "python3"
  },
  "language_info": {
   "codemirror_mode": {
    "name": "ipython",
    "version": 3
   },
   "file_extension": ".py",
   "mimetype": "text/x-python",
   "name": "python",
   "nbconvert_exporter": "python",
   "pygments_lexer": "ipython3",
   "version": "3.10.18"
  }
 },
 "nbformat": 4,
 "nbformat_minor": 5
}
