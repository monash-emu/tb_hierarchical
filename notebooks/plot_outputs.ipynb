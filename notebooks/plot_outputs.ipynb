{
 "cells": [
  {
   "cell_type": "code",
   "execution_count": null,
   "id": "3579ad22",
   "metadata": {},
   "outputs": [],
   "source": [
    "import arviz as az\n",
    "import pandas as pd\n",
    "from pathlib import Path\n",
    "from tbh.paths import REPO_ROOT_PATH, OUTPUT_PARENT_FOLDER\n",
    "\n",
    "import tbh.plotting as pl"
   ]
  },
  {
   "cell_type": "code",
   "execution_count": null,
   "id": "f308c098",
   "metadata": {},
   "outputs": [],
   "source": [
    "# analysis_path = REPO_ROOT_PATH / \"notebooks\" / \"test_outputs\" / \"test_full_analysis_scenarios_dfs\"\n",
    "analysis_path = OUTPUT_PARENT_FOLDER / \"46127547_full_analysis_3scenarios\" / \"task_1\""
   ]
  },
  {
   "cell_type": "code",
   "execution_count": null,
   "id": "b5facdec",
   "metadata": {},
   "outputs": [],
   "source": [
    "scenarios = [\"scenario_1\", \"scenario_2\", \"scenario_3\"]\n",
    "unc_dfs = {\n",
    "    sc: pd.read_parquet(analysis_path / f\"uncertainty_df_{sc}.parquet\") for sc in [\"baseline\"] + scenarios\n",
    "}\n",
    "diff_outputs_dfs = {\n",
    "    sc: pd.read_parquet(analysis_path / f\"diff_quantiles_df_{sc}.parquet\") for sc in scenarios\n",
    "}\n"
   ]
  },
  {
   "cell_type": "code",
   "execution_count": null,
   "id": "2330a8b8",
   "metadata": {},
   "outputs": [],
   "source": [
    "from matplotlib import pyplot as plt \n",
    "plt.style.use(\"ggplot\")\n",
    "\n",
    "scenarios_to_plot = [\"scenario_1\", \"scenario_2\", \"scenario_3\"]\n",
    "outputs_to_plot = ['tb_incidence_per100k', 'tbi_prevalence_perc', 'tb_mortality_per100k']\n",
    "\n",
    "for sc in scenarios_to_plot:\n",
    "    for output in outputs_to_plot:\n",
    "        fig, ax = plt.subplots(1, 1)\n",
    "        pl.plot_two_scenarios(ax, unc_dfs, output, scenarios=['baseline', sc], xlim=(2015,2050), include_unc=True)\n",
    "\n",
    "        plt.savefig(analysis_path / \"figures\" / f\"{sc}_{output}.png\")\n"
   ]
  },
  {
   "cell_type": "code",
   "execution_count": null,
   "id": "21dcbc73",
   "metadata": {},
   "outputs": [],
   "source": [
    "for output in ['cum_tb_incidence', 'cum_tb_mortality']:\n",
    "\n",
    "    fig, ax = plt.subplots(1, 1)\n",
    "    pl.plot_final_size_compare(ax,unc_dfs, output, [\"baseline\", \"scenario_1\", \"scenario_2\", \"scenario_3\"])\n",
    "\n",
    "    plt.savefig(analysis_path / \"figures\" / f\"cumulative_{output}.png\")\n"
   ]
  },
  {
   "cell_type": "code",
   "execution_count": null,
   "id": "5aefe8f6",
   "metadata": {},
   "outputs": [],
   "source": [
    "for output in [\"TB_averted\", \"TB_averted_relative\"]:\n",
    "\n",
    "    fig, ax = plt.subplots(1, 1)\n",
    "    pl.plot_diff_outputs(ax, diff_outputs_dfs, output, [\"scenario_1\", \"scenario_2\", \"scenario_3\"])\n",
    "\n",
    "    plt.savefig(analysis_path / \"figures\" / f\"diff_{output}.png\")"
   ]
  },
  {
   "cell_type": "code",
   "execution_count": null,
   "id": "61ef0e4a",
   "metadata": {},
   "outputs": [],
   "source": []
  }
 ],
 "metadata": {
  "kernelspec": {
   "display_name": "default",
   "language": "python",
   "name": "python3"
  },
  "language_info": {
   "codemirror_mode": {
    "name": "ipython",
    "version": 3
   },
   "file_extension": ".py",
   "mimetype": "text/x-python",
   "name": "python",
   "nbconvert_exporter": "python",
   "pygments_lexer": "ipython3",
   "version": "3.10.18"
  }
 },
 "nbformat": 4,
 "nbformat_minor": 5
}
