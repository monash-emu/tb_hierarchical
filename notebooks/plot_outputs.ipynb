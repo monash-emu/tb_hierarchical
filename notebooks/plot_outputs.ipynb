{
 "cells": [
  {
   "cell_type": "code",
   "execution_count": null,
   "id": "3579ad22",
   "metadata": {},
   "outputs": [],
   "source": [
    "import arviz as az\n",
    "import pandas as pd\n",
    "from pathlib import Path\n",
    "from tbh.paths import REPO_ROOT_PATH\n",
    "\n",
    "import tbh.plotting as pl"
   ]
  },
  {
   "cell_type": "code",
   "execution_count": null,
   "id": "9661a599",
   "metadata": {},
   "outputs": [],
   "source": [
    "REPO_ROOT_PATH"
   ]
  },
  {
   "cell_type": "code",
   "execution_count": null,
   "id": "f308c098",
   "metadata": {},
   "outputs": [],
   "source": [
    "analysis_path = REPO_ROOT_PATH / \"notebooks\" / \"test_outputs\" / \"test_full_analysis_scenarios_dfs\""
   ]
  },
  {
   "cell_type": "code",
   "execution_count": null,
   "id": "b5facdec",
   "metadata": {},
   "outputs": [],
   "source": [
    "scenarios = [\"scenario_1\"]\n",
    "unc_dfs = {\n",
    "    sc: pd.read_parquet(analysis_path / f\"uncertainty_df_{sc}.parquet\") for sc in [\"baseline\"] + scenarios\n",
    "}\n",
    "diff_outputs_dfs = {\n",
    "    sc: pd.read_parquet(analysis_path / f\"diff_quantiles_df_{sc}.parquet\") for sc in scenarios\n",
    "}\n"
   ]
  },
  {
   "cell_type": "code",
   "execution_count": null,
   "id": "25597f04",
   "metadata": {},
   "outputs": [],
   "source": [
    "title_lookup = {\n",
    "    \"tb_incidence\": \"TB incidence\",\n",
    "    \"tb_incidence_per100k\": \"TB incidence (/100k)\",\n",
    "    \"tbi_prevalence_perc\": \"TB infection prev. (%)\"\n",
    "}\n",
    "sc_colours = [\"black\", \"crimson\"]\n",
    "unc_sc_colours = ((0.2, 0.2, 0.8), (0.8, 0.2, 0.2), (0.2, 0.8, 0.2), (0.8, 0.8, 0.2), (0.8, 0.2, 0.2), (0.2, 0.8, 0.2), (0.8, 0.8, 0.2))\n",
    "\n",
    "\n",
    "def plot_two_scenarios(axis, uncertainty_dfs, output_name, include_unc=False, include_legend=True):\n",
    "    ymax = 0.\n",
    "    for i_sc, scenario in enumerate([\"baseline\", \"scenario_1\"]):\n",
    "        df = uncertainty_dfs[scenario][output_name]\n",
    "        median_df = df['0.5']\n",
    "        time = df.index\n",
    "        \n",
    "        colour = unc_sc_colours[i_sc]\n",
    "        label = scenario\n",
    "        scenario_zorder = 10 if i_sc == 0 else i_sc + 2\n",
    "\n",
    "        if include_unc:\n",
    "            axis.fill_between(\n",
    "                time, \n",
    "                df['0.25'], df['0.75'], \n",
    "                color=colour, alpha=0.7, \n",
    "                edgecolor=None,\n",
    "                zorder=scenario_zorder\n",
    "            )\n",
    "            ymax = max(ymax, df['0.75'].max())\n",
    "        else:\n",
    "            ymax = median_df.max()\n",
    "\n",
    "        axis.plot(time, median_df, color=colour, label=label, lw=1.)\n",
    "        \n",
    "    plot_ymax = ymax * 1.1    \n",
    "\n",
    "    # axis.tick_params(axis=\"x\", labelrotation=45)\n",
    "    title = output_name if output_name not in title_lookup else title_lookup[output_name]\n",
    "    axis.set_ylabel(title)\n",
    "    # axis.set_xlim((model_start, model_end))\n",
    "    axis.set_ylim((0, plot_ymax))\n",
    "\n",
    "    if include_legend:\n",
    "        axis.legend(title=\"(median and IQR)\")\n"
   ]
  },
  {
   "cell_type": "code",
   "execution_count": null,
   "id": "2330a8b8",
   "metadata": {},
   "outputs": [],
   "source": []
  },
  {
   "cell_type": "code",
   "execution_count": null,
   "id": "21dcbc73",
   "metadata": {},
   "outputs": [],
   "source": [
    "from matplotlib import pyplot as plt \n",
    "\n",
    "fig, ax = plt.subplots(1, 1)\n",
    "\n",
    "plot_two_scenarios(ax, unc_dfs, \"tb_incidence_per100k\", include_unc=True)\n",
    "\n",
    "ax.set_xlim((2000, 2050))\n",
    "ax.set_ylim((0., 1200))"
   ]
  },
  {
   "cell_type": "code",
   "execution_count": null,
   "id": "8e23d742",
   "metadata": {},
   "outputs": [],
   "source": [
    "fig, ax = plt.subplots(1, 1)\n",
    "\n",
    "plot_two_scenarios(ax, unc_dfs, \"tbi_prevalence_perc\", include_unc=False)\n",
    "\n",
    "ax.set_xlim((2000, 2050))\n",
    "ax.set_ylim((0., 60))"
   ]
  },
  {
   "cell_type": "code",
   "execution_count": null,
   "id": "569f94a0",
   "metadata": {},
   "outputs": [],
   "source": []
  }
 ],
 "metadata": {
  "kernelspec": {
   "display_name": "default",
   "language": "python",
   "name": "python3"
  },
  "language_info": {
   "codemirror_mode": {
    "name": "ipython",
    "version": 3
   },
   "file_extension": ".py",
   "mimetype": "text/x-python",
   "name": "python",
   "nbconvert_exporter": "python",
   "pygments_lexer": "ipython3",
   "version": "3.10.18"
  }
 },
 "nbformat": 4,
 "nbformat_minor": 5
}
