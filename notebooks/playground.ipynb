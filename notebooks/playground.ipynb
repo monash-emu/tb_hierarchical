{
 "cells": [
  {
   "cell_type": "code",
   "execution_count": null,
   "metadata": {},
   "outputs": [],
   "source": [
    "from tbh import runner_tools as rt \n",
    "from tbh import plotting as pl\n",
    "\n",
    "from importlib import reload\n",
    "reload(rt);\n",
    "reload(pl);"
   ]
  },
  {
   "cell_type": "code",
   "execution_count": null,
   "metadata": {},
   "outputs": [],
   "source": [
    "from tbh import model as tbm \n",
    "reload(tbm)\n",
    "\n",
    "params, priors, tv_params = rt.get_parameters_and_priors()\n",
    "model_config = rt.DEFAULT_MODEL_CONFIG\n",
    "model = tbm.get_tb_model(model_config, tv_params)"
   ]
  },
  {
   "cell_type": "code",
   "execution_count": null,
   "metadata": {},
   "outputs": [],
   "source": [
    "from tbh.paths import DATA_FOLDER\n",
    "sc_params, _, sc_tv_params = rt.get_parameters_and_priors(DATA_FOLDER / \"scenario_1.xlsx\")\n",
    "sc_params = params | sc_params\n",
    "sc_tv_params = tv_params | sc_tv_params\n",
    "model_1 = tbm.get_tb_model(model_config, sc_tv_params)"
   ]
  },
  {
   "cell_type": "code",
   "execution_count": null,
   "metadata": {},
   "outputs": [],
   "source": [
    "ow_params = {\n",
    "    \"raw_transmission_rate\": 10.,\n",
    "}\n",
    "model.run(params | ow_params)"
   ]
  },
  {
   "cell_type": "code",
   "execution_count": null,
   "metadata": {},
   "outputs": [],
   "source": [
    "model_1.run(params | ow_params)"
   ]
  },
  {
   "cell_type": "code",
   "execution_count": null,
   "metadata": {},
   "outputs": [],
   "source": [
    "df = model.get_derived_outputs_df()\n",
    "df['tb_incidence_per100k'].plot()"
   ]
  },
  {
   "cell_type": "code",
   "execution_count": null,
   "metadata": {},
   "outputs": [],
   "source": [
    "df1 = model_1.get_derived_outputs_df()"
   ]
  },
  {
   "cell_type": "code",
   "execution_count": null,
   "metadata": {},
   "outputs": [],
   "source": [
    "df['tb_incidence_per100k'].loc[2018:2030].plot()\n",
    "df1['tb_incidence_per100k'].loc[2018:2030].plot()\n"
   ]
  },
  {
   "cell_type": "markdown",
   "metadata": {},
   "source": [
    "## Metropolis calibration"
   ]
  },
  {
   "cell_type": "code",
   "execution_count": null,
   "metadata": {},
   "outputs": [],
   "source": [
    "from estival.model import BayesianCompartmentalModel\n",
    "from estival import targets as est"
   ]
  },
  {
   "cell_type": "code",
   "execution_count": null,
   "metadata": {},
   "outputs": [],
   "source": [
    "import pandas as pd\n",
    "targets = [\n",
    "    est.NormalTarget(\"notifications\", pd.Series([100], [2020]),stdev=20.)\n",
    "]\n",
    "bcm = BayesianCompartmentalModel(model, params, priors, targets)"
   ]
  },
  {
   "cell_type": "code",
   "execution_count": null,
   "metadata": {},
   "outputs": [],
   "source": [
    "import multiprocessing as mp\n",
    "mp.set_start_method(\"spawn\")  # previously \"forkserver\"\n",
    "\n",
    "import pytensor\n",
    "pytensor.config.cxx = '/usr/bin/clang++'"
   ]
  },
  {
   "cell_type": "code",
   "execution_count": null,
   "metadata": {},
   "outputs": [],
   "source": [
    "idata = rt.run_metropolis_calibration(bcm, draws=100, tune=50, chains=2, cores=1)"
   ]
  }
 ],
 "metadata": {
  "kernelspec": {
   "display_name": "default",
   "language": "python",
   "name": "python3"
  },
  "language_info": {
   "codemirror_mode": {
    "name": "ipython",
    "version": 3
   },
   "file_extension": ".py",
   "mimetype": "text/x-python",
   "name": "python",
   "nbconvert_exporter": "python",
   "pygments_lexer": "ipython3",
   "version": "3.10.18"
  }
 },
 "nbformat": 4,
 "nbformat_minor": 2
}
