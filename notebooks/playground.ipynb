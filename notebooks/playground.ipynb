{
 "cells": [
  {
   "cell_type": "code",
   "execution_count": null,
   "metadata": {},
   "outputs": [],
   "source": [
    "from tbh import runner_tools as rt \n",
    "from tbh import plotting as pl\n",
    "\n",
    "from importlib import reload\n",
    "reload(rt);\n",
    "reload(pl);\n",
    "\n",
    "import tbh.interventions as ints"
   ]
  },
  {
   "cell_type": "code",
   "execution_count": null,
   "metadata": {},
   "outputs": [],
   "source": [
    "from tbh import model as tbm \n",
    "reload(tbm)\n",
    "\n",
    "params, priors, tv_params = rt.get_parameters_and_priors()\n",
    "model_config = rt.DEFAULT_MODEL_CONFIG\n",
    "model = tbm.get_tb_model(model_config, tv_params)"
   ]
  },
  {
   "cell_type": "code",
   "execution_count": null,
   "metadata": {},
   "outputs": [],
   "source": [
    "sc1_scr_programs = [\n",
    "    ints.example_scr_program\n",
    "]\n",
    "model_1 = tbm.get_tb_model(model_config, tv_params, sc1_scr_programs)"
   ]
  },
  {
   "cell_type": "code",
   "execution_count": null,
   "metadata": {},
   "outputs": [],
   "source": [
    "ow_params = {\n",
    "    \"raw_transmission_rate\": 10.,\n",
    "}\n",
    "\n",
    "model.run(params | ow_params)\n",
    "df = model.get_derived_outputs_df()"
   ]
  },
  {
   "cell_type": "code",
   "execution_count": null,
   "metadata": {},
   "outputs": [],
   "source": [
    "model_1.run(params| ow_params)\n",
    "df1 = model_1.get_derived_outputs_df()\n",
    "\n",
    "# model_2.run(params| ow_params)\n",
    "# df2 = model_2.get_derived_outputs_df()\n",
    "\n",
    "# model_3.run(params| ow_params)\n",
    "# df3 = model_3.get_derived_outputs_df()\n",
    "\n",
    "# model_4.run(params| ow_params)\n",
    "# df4 = model_4.get_derived_outputs_df()\n"
   ]
  },
  {
   "cell_type": "code",
   "execution_count": null,
   "metadata": {},
   "outputs": [],
   "source": [
    "from matplotlib import pyplot as plt\n",
    "\n",
    "fig, ax = plt.subplots()\n",
    "\n",
    "df['tb_incidence_per100k'].loc[2018:2030].plot(label=\"baselines\")\n",
    "df1['tb_incidence_per100k'].loc[2018:2030].plot(label=\"CXR\")\n",
    "# df2['tb_incidence_per100k'].loc[2018:2030].plot(label=\"CXR + TPT\")\n",
    "# df3['tb_incidence_per100k'].loc[2018:2030].plot(label=\"CXR TPT Xpert\")\n",
    "\n",
    "# df4['tb_incidence_per100k'].loc[2018:2030].plot(label=\"CXR + Xpert\")\n",
    "\n",
    "ax.legend()\n"
   ]
  },
  {
   "cell_type": "markdown",
   "metadata": {},
   "source": [
    "## Metropolis calibration"
   ]
  },
  {
   "cell_type": "code",
   "execution_count": null,
   "metadata": {},
   "outputs": [],
   "source": [
    "from estival.model import BayesianCompartmentalModel\n",
    "from estival import targets as est"
   ]
  },
  {
   "cell_type": "code",
   "execution_count": null,
   "metadata": {},
   "outputs": [],
   "source": [
    "import pandas as pd\n",
    "targets = [\n",
    "    est.NormalTarget(\"notifications\", pd.Series([100], [2020]),stdev=20.)\n",
    "]\n",
    "bcm = BayesianCompartmentalModel(model, params, priors, targets)"
   ]
  },
  {
   "cell_type": "code",
   "execution_count": null,
   "metadata": {},
   "outputs": [],
   "source": [
    "import multiprocessing as mp\n",
    "mp.set_start_method(\"spawn\")  # previously \"forkserver\"\n",
    "\n",
    "import pytensor\n",
    "pytensor.config.cxx = '/usr/bin/clang++'"
   ]
  },
  {
   "cell_type": "code",
   "execution_count": null,
   "metadata": {},
   "outputs": [],
   "source": [
    "idata = rt.run_metropolis_calibration(bcm, draws=100, tune=50, chains=2, cores=1)"
   ]
  },
  {
   "cell_type": "code",
   "execution_count": null,
   "metadata": {},
   "outputs": [],
   "source": []
  }
 ],
 "metadata": {
  "kernelspec": {
   "display_name": "default",
   "language": "python",
   "name": "python3"
  },
  "language_info": {
   "codemirror_mode": {
    "name": "ipython",
    "version": 3
   },
   "file_extension": ".py",
   "mimetype": "text/x-python",
   "name": "python",
   "nbconvert_exporter": "python",
   "pygments_lexer": "ipython3",
   "version": "3.10.18"
  }
 },
 "nbformat": 4,
 "nbformat_minor": 2
}
