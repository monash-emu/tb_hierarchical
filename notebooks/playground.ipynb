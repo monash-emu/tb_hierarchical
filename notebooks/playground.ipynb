{
 "cells": [
  {
   "cell_type": "code",
   "execution_count": null,
   "metadata": {},
   "outputs": [],
   "source": [
    "from tbh import runner_tools as rt \n",
    "from tbh import plotting as pl\n",
    "\n",
    "from importlib import reload\n",
    "reload(rt);\n",
    "reload(pl);"
   ]
  },
  {
   "cell_type": "code",
   "execution_count": null,
   "metadata": {},
   "outputs": [],
   "source": [
    "from tbh import full_model as fm \n",
    "\n",
    "reload(fm)\n",
    "\n",
    "model_config = {    \n",
    "    \"start_time\": 1800,\n",
    "    \"end_time\": 2025,\n",
    "    \"seed\": 100\n",
    "}\n",
    "\n",
    "model = fm.get_tb_model(model_config)"
   ]
  },
  {
   "cell_type": "code",
   "execution_count": null,
   "metadata": {},
   "outputs": [],
   "source": [
    "model.get_input_parameters()"
   ]
  },
  {
   "cell_type": "code",
   "execution_count": null,
   "metadata": {},
   "outputs": [],
   "source": [
    "params = {\n",
    "    \"init_pop_size\": 1.e6,\n",
    "    \"raw_transmission_rate\": 10.,\n",
    "\n",
    "    # Susceptibility to infection\n",
    "    'rel_sus_mtb_naive': 1., # !FIXME we don't need a parameter for this...\n",
    "    'rel_sus_cleared': 1.,\n",
    "    'rel_sus_contained': 0.2,\n",
    "    'rel_sus_recovered': 1.,\n",
    "\n",
    "    # Early TB infection\n",
    "    'breakdown_rate': .1,\n",
    "    'clearance_rate': .1,\n",
    "    'containment_rate': 5.,\n",
    "    'progression_rate': .5,\n",
    "\n",
    "    # Active TB dynamics\n",
    "    'clinical_progression_rate': 1.,\n",
    "    'clinical_regression_rate': 1.,\n",
    "    'infectiousness_gain_rate': 1.,\n",
    "    'infectiousness_loss_rate': 1.,\n",
    "}\n",
    "\n",
    "model.run(params)"
   ]
  },
  {
   "cell_type": "code",
   "execution_count": null,
   "metadata": {},
   "outputs": [],
   "source": [
    "model.flows"
   ]
  },
  {
   "cell_type": "code",
   "execution_count": null,
   "metadata": {},
   "outputs": [],
   "source": [
    "df = model.get_derived_outputs_df()"
   ]
  },
  {
   "cell_type": "code",
   "execution_count": null,
   "metadata": {},
   "outputs": [],
   "source": [
    "df['raw_incidence'].plot()"
   ]
  },
  {
   "cell_type": "code",
   "execution_count": null,
   "metadata": {},
   "outputs": [],
   "source": []
  },
  {
   "cell_type": "code",
   "execution_count": null,
   "metadata": {},
   "outputs": [],
   "source": [
    "studies_dict = rt.DEFAULT_STUDIES_DICT\n",
    "params = rt.get_full_default_params(studies_dict)"
   ]
  },
  {
   "cell_type": "markdown",
   "metadata": {},
   "source": [
    "# Manual run"
   ]
  },
  {
   "cell_type": "code",
   "execution_count": null,
   "metadata": {},
   "outputs": [],
   "source": [
    "model, do_df = rt.model_single_run(rt.DEFAULT_MODEL_CONFIG, studies_dict, params)"
   ]
  },
  {
   "cell_type": "code",
   "execution_count": null,
   "metadata": {},
   "outputs": [],
   "source": [
    "do_df[['ltbi_propXmajuro']].plot()"
   ]
  }
 ],
 "metadata": {
  "kernelspec": {
   "display_name": "default",
   "language": "python",
   "name": "python3"
  },
  "language_info": {
   "codemirror_mode": {
    "name": "ipython",
    "version": 3
   },
   "file_extension": ".py",
   "mimetype": "text/x-python",
   "name": "python",
   "nbconvert_exporter": "python",
   "pygments_lexer": "ipython3",
   "version": "3.10.18"
  }
 },
 "nbformat": 4,
 "nbformat_minor": 2
}
