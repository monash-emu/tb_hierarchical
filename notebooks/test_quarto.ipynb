{
 "cells": [
  {
   "cell_type": "raw",
   "id": "411f9e55",
   "metadata": {
    "vscode": {
     "languageId": "raw"
    }
   },
   "source": [
    "---\n",
    "title: \"Methods\"\n",
    "format: pdf\n",
    "execute:\n",
    "  echo: false\n",
    "  warning: false\n",
    "jupyter: python3\n",
    "csl: https://www.zotero.org/styles/the-lancet\n",
    "---"
   ]
  },
  {
   "cell_type": "code",
   "execution_count": null,
   "id": "9f4fb67b",
   "metadata": {},
   "outputs": [],
   "source": [
    "from IPython.display import display, Markdown\n",
    "from tbh.paths import REPO_ROOT_PATH\n",
    "analysis_path = REPO_ROOT_PATH / \"remote_cluster\" / \"outputs\" / \"48092744_age_spec_target\" / \"task_1\""
   ]
  },
  {
   "cell_type": "code",
   "execution_count": null,
   "id": "ab28f8be",
   "metadata": {},
   "outputs": [],
   "source": [
    "import tbh.plotting as pl\n",
    "import pandas as pd\n",
    "intervention_scenarios = [\"scenario_1\", \"scenario_2\", \"scenario_3\"]\n",
    "all_scenarios = ['baseline'] + intervention_scenarios\n",
    "unc_dfs = {\n",
    "    sc: pd.read_parquet(analysis_path / f\"uncertainty_df_{sc}.parquet\") for sc in all_scenarios\n",
    "}\n",
    "diff_outputs_dfs = {\n",
    "    sc: pd.read_parquet(analysis_path / f\"diff_quantiles_df_ref_baseline_{sc}.parquet\") for sc in intervention_scenarios\n",
    "}"
   ]
  },
  {
   "cell_type": "code",
   "execution_count": null,
   "id": "782754d5",
   "metadata": {},
   "outputs": [],
   "source": [
    "import yaml\n",
    "\n",
    "with open(analysis_path / \"details.yaml\" , \"r\") as f:\n",
    "    docs = list(yaml.safe_load_all(f))\n",
    "\n",
    "model_config = docs[1]\n",
    "analysis_config = docs[2]"
   ]
  },
  {
   "cell_type": "code",
   "execution_count": null,
   "id": "063ccacc",
   "metadata": {},
   "outputs": [],
   "source": [
    "from tbh import runner_tools as rt\n",
    "from tbh.model import get_tb_model\n",
    "from estival.model import BayesianCompartmentalModel\n",
    "\n",
    "\n",
    "params, priors, tv_params = rt.get_parameters_and_priors()\n",
    "\n",
    "model = get_tb_model(model_config, tv_params)\n",
    "bcm = BayesianCompartmentalModel(model, params, priors, rt.targets)"
   ]
  },
  {
   "cell_type": "code",
   "execution_count": null,
   "id": "eab853ab",
   "metadata": {},
   "outputs": [],
   "source": [
    "from matplotlib import pyplot as plt \n",
    "plt.style.use(\"ggplot\")\n",
    "\n",
    "selected_outputs = bcm.targets.keys()\n",
    "for output in selected_outputs:\n",
    "    _, ax = plt.subplots()\n",
    "    pl.plot_model_fit_with_uncertainty(ax, unc_dfs['baseline'], output, bcm, x_lim=(2010, 2025))"
   ]
  },
  {
   "cell_type": "markdown",
   "id": "b335f814",
   "metadata": {},
   "source": [
    "# Test\n",
    "## THis is a test\n",
    "blabla"
   ]
  },
  {
   "cell_type": "code",
   "execution_count": null,
   "id": "58af063f",
   "metadata": {},
   "outputs": [],
   "source": [
    "a = 125"
   ]
  },
  {
   "cell_type": "markdown",
   "id": "34e7324a",
   "metadata": {},
   "source": [
    "# Test integrating python var\n",
    "\n",
    "I have 'r  a' flowers in my backyard."
   ]
  },
  {
   "cell_type": "markdown",
   "id": "38711f08",
   "metadata": {},
   "source": []
  },
  {
   "cell_type": "code",
   "execution_count": null,
   "id": "608ab129",
   "metadata": {},
   "outputs": [],
   "source": [
    "display(Markdown(f\"J'ai {a} flowers dans mon jardin\"))"
   ]
  },
  {
   "cell_type": "code",
   "execution_count": null,
   "id": "65010989",
   "metadata": {},
   "outputs": [],
   "source": []
  }
 ],
 "metadata": {
  "kernelspec": {
   "display_name": "default",
   "language": "python",
   "name": "python3"
  },
  "language_info": {
   "codemirror_mode": {
    "name": "ipython",
    "version": 3
   },
   "file_extension": ".py",
   "mimetype": "text/x-python",
   "name": "python",
   "nbconvert_exporter": "python",
   "pygments_lexer": "ipython3",
   "version": "3.10.18"
  }
 },
 "nbformat": 4,
 "nbformat_minor": 5
}
