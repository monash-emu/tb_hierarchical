{
 "cells": [
  {
   "cell_type": "code",
   "execution_count": null,
   "id": "60a49880",
   "metadata": {},
   "outputs": [],
   "source": [
    "from importlib import reload\n",
    "\n",
    "from tbh import runner_tools as rt \n",
    "from tbh import model as tbm \n",
    "reload(tbm)\n",
    "\n",
    "\n",
    "params, priors, tv_params = rt.get_parameters_and_priors()\n",
    "model_config = rt.DEFAULT_MODEL_CONFIG\n",
    "model = tbm.get_tb_model(model_config, tv_params)"
   ]
  },
  {
   "cell_type": "code",
   "execution_count": null,
   "id": "6ee32b71",
   "metadata": {},
   "outputs": [],
   "source": [
    "ow_params = {\n",
    "    \"raw_transmission_rate\": 35.\n",
    "}\n",
    "model.run(params | ow_params)"
   ]
  },
  {
   "cell_type": "code",
   "execution_count": null,
   "id": "2db0862b",
   "metadata": {},
   "outputs": [],
   "source": [
    "YEAR = 2020"
   ]
  },
  {
   "cell_type": "code",
   "execution_count": null,
   "id": "563ce8cd",
   "metadata": {},
   "outputs": [],
   "source": [
    "c_df = model.get_outputs_df()\n",
    "import pandas as pd\n",
    "import matplotlib.pyplot as plt\n",
    "\n",
    "# Define the age groups you're interested in\n",
    "age_groups = [int(a) for a in model_config['age_groups']]\n",
    "\n",
    "# Create a dictionary to store total population per age group over time\n",
    "age_totals = {}\n",
    "\n",
    "for age in age_groups:\n",
    "    # Select columns ending with \"Xage_<age>\"\n",
    "    age_cols = [col for col in c_df.columns if col.endswith(f\"Xage_{age}\")]\n",
    "    \n",
    "    # Sum across all compartments for this age group at each time point\n",
    "    age_totals[age] = c_df[age_cols].sum(axis=1)\n",
    "\n",
    "# Convert to DataFrame\n",
    "age_totals_df = pd.DataFrame(age_totals)\n",
    "\n",
    "# Normalize to population fractions (i.e., divide by total population at each time)\n",
    "age_fractions = age_totals_df.div(age_totals_df.sum(axis=1), axis=0)\n",
    "\n",
    "# # Plot\n",
    "# plt.figure(figsize=(10, 6))\n",
    "# for age in age_groups:\n",
    "#     plt.plot(age_fractions.index, age_fractions[age], label=f\"Age {age}+\")\n",
    "\n",
    "# plt.title(\"Population Fractions by Age Group Over Time\")\n",
    "# plt.xlabel(\"Time\")\n",
    "# plt.ylabel(\"Fraction of Total Population\")\n",
    "# plt.legend()\n",
    "# plt.grid(True)\n",
    "# plt.tight_layout()\n",
    "# plt.show()\n"
   ]
  },
  {
   "cell_type": "code",
   "execution_count": null,
   "id": "6e0b902e",
   "metadata": {},
   "outputs": [],
   "source": [
    "from tbh.paths import DATA_FOLDER\n",
    "\n",
    "age_bins = [int(a) for a in model_config['age_groups']]\n",
    "\n",
    "pop_data = pd.read_csv(DATA_FOLDER / \"un_population.csv\")\n",
    "mort_data = pd.read_csv(DATA_FOLDER / \"un_mortality.csv\")\n",
    "\n",
    "# Filter by country and start year\n",
    "pop_data = pop_data[(pop_data[\"ISO3_code\"] == model_config[\"iso3\"]) & \n",
    "                    (pop_data[\"Time\"] >= model_config[\"start_time\"])]\n",
    "mort_data = mort_data[(mort_data[\"ISO3_code\"] == model_config[\"iso3\"]) & \n",
    "                        (mort_data[\"Time\"] >= model_config[\"start_time\"])]\n",
    "\n",
    "# Define bin edges and labels\n",
    "bin_edges = age_bins + [200]  # use 200 as an upper cap beyond realistic ages\n",
    "bin_labels = age_bins  # label each bin by its lower bound\n",
    "\n",
    "pop_data[\"age_group\"] = pd.cut(pop_data[\"AgeGrpStart\"], bins=bin_edges, labels=bin_labels, right=False)\n",
    "mort_data[\"age_group\"] = pd.cut(mort_data[\"AgeGrpStart\"], bins=bin_edges, labels=bin_labels, right=False)\n",
    "\n",
    "# Drop rows outside specified bins (age_group == NaN)\n",
    "pop_data = pop_data.dropna(subset=[\"age_group\"])\n",
    "mort_data = mort_data.dropna(subset=[\"age_group\"])\n",
    "\n",
    "# Convert category labels back to integers\n",
    "pop_data[\"age_group\"] = pop_data[\"age_group\"].astype(int)\n",
    "mort_data[\"age_group\"] = mort_data[\"age_group\"].astype(int)\n",
    "\n",
    "# Aggregate by year and age group\n",
    "pop_summary = pop_data.groupby([\"Time\", \"age_group\"])[\"PopTotal\"].sum().reset_index()"
   ]
  },
  {
   "cell_type": "code",
   "execution_count": null,
   "id": "b5aee040",
   "metadata": {},
   "outputs": [],
   "source": [
    "d = pop_summary[pop_summary[\"Time\"]==YEAR]\n",
    "d.index = d[\"age_group\"]\n",
    "d = d[[\"PopTotal\"]]\n",
    "d[\"data_frac\"] = d[\"PopTotal\"] / d[\"PopTotal\"].sum()\n",
    "\n",
    "modelled_fracs = age_fractions.loc[YEAR]\n",
    "modelled_fracs.index.name = \"age_group\"\n",
    "\n",
    "m = pd.merge(modelled_fracs, d, left_index=True, right_index=True)\n",
    "m.rename(columns={m.columns[0]: 'model_frac'}, inplace=True)\n",
    "m = 100 * m[['model_frac', 'data_frac']]\n",
    "m"
   ]
  },
  {
   "cell_type": "code",
   "execution_count": null,
   "id": "04676a17",
   "metadata": {},
   "outputs": [],
   "source": [
    "m.plot(kind='bar', width=0.8)"
   ]
  }
 ],
 "metadata": {
  "kernelspec": {
   "display_name": "default",
   "language": "python",
   "name": "python3"
  },
  "language_info": {
   "codemirror_mode": {
    "name": "ipython",
    "version": 3
   },
   "file_extension": ".py",
   "mimetype": "text/x-python",
   "name": "python",
   "nbconvert_exporter": "python",
   "pygments_lexer": "ipython3",
   "version": "3.10.18"
  }
 },
 "nbformat": 4,
 "nbformat_minor": 5
}
