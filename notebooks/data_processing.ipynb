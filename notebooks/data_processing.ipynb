{
 "cells": [
  {
   "cell_type": "code",
   "execution_count": null,
   "id": "9dd60953",
   "metadata": {},
   "outputs": [],
   "source": [
    "from tbh.paths import DATA_FOLDER"
   ]
  },
  {
   "cell_type": "code",
   "execution_count": null,
   "id": "c650a51e",
   "metadata": {},
   "outputs": [],
   "source": [
    "SELECTED_ISO3s = [\"KIR\", \"IDN\", \"VNM\", \"PHL\"]"
   ]
  },
  {
   "cell_type": "markdown",
   "id": "fd951993",
   "metadata": {},
   "source": [
    "# Population size by age for years 1950-2101\n",
    "## UN Populaiton Prospects data \n",
    "### DOWNLOADED FROM https://population.un.org/wpp/downloads?folder=Standard%20Projections&group=CSV%20format\n",
    "### file URL: https://population.un.org/wpp/assets/Excel%20Files/1_Indicator%20(Standard)/CSV_FILES/WPP2024_Population1JanuaryByAge5GroupSex_Medium.csv.gz\n"
   ]
  },
  {
   "cell_type": "markdown",
   "id": "eb00a047",
   "metadata": {},
   "source": [
    "### Load the full csv file, extract the data for selected countries and columns, then save filtered data as new csv"
   ]
  },
  {
   "cell_type": "markdown",
   "id": "0b15ab74",
   "metadata": {},
   "source": [
    "###"
   ]
  },
  {
   "cell_type": "code",
   "execution_count": null,
   "id": "cc65b185",
   "metadata": {},
   "outputs": [],
   "source": [
    "import pandas as pd\n",
    "csv_path = DATA_FOLDER / \"WPP2024_Population1JanuaryByAge5GroupSex_Medium.csv.gz\"\n",
    "full_data = pd.read_csv(csv_path)\n",
    "\n",
    "selected_columns = [\"ISO3_code\", \"Location\", \"Time\", \"AgeGrp\", \"AgeGrpStart\", \"PopTotal\"]\n",
    "SELECTED_ISO3s = [\"KIR\", \"IDN\", \"VNM\", \"PHL\"]"
   ]
  },
  {
   "cell_type": "code",
   "execution_count": null,
   "id": "f8963330",
   "metadata": {},
   "outputs": [],
   "source": [
    "selected_data = full_data[selected_columns][full_data['ISO3_code'].isin(SELECTED_ISO3s)]"
   ]
  },
  {
   "cell_type": "code",
   "execution_count": null,
   "id": "b2ac2989",
   "metadata": {},
   "outputs": [],
   "source": [
    "selected_data.to_csv(DATA_FOLDER / \"un_population.csv\", index=False)"
   ]
  },
  {
   "cell_type": "markdown",
   "id": "267dbd6d",
   "metadata": {},
   "source": [
    "# Mortality by age for years 1950-2023 and 2024-2100\n",
    "## UN Populaiton Prospects data \n",
    "### DOWNLOADED FROM https://population.un.org/wpp/downloads?folder=Standard%20Projections&group=CSV%20format\n",
    "### file URL:\n",
    "- 1950-2023: https://population.un.org/wpp/assets/Excel%20Files/1_Indicator%20(Standard)/CSV_FILES/WPP2024_DeathsBySingleAgeSex_Medium_1950-2023.csv.gz\n",
    "- 2024-2100: https://population.un.org/wpp/assets/Excel%20Files/1_Indicator%20(Standard)/CSV_FILES/WPP2024_DeathsBySingleAgeSex_Medium_2024-2100.csv.gz\n"
   ]
  },
  {
   "cell_type": "code",
   "execution_count": null,
   "id": "2b960c69",
   "metadata": {},
   "outputs": [],
   "source": [
    "csv_path_1 = DATA_FOLDER / \"WPP2024_DeathsBySingleAgeSex_Medium_1950-2023.csv.gz\"\n",
    "full_data_1 = pd.read_csv(csv_path_1)\n",
    "\n",
    "csv_path_2 = DATA_FOLDER / \"WPP2024_DeathsBySingleAgeSex_Medium_2024-2100.csv.gz\"\n",
    "full_data_2 = pd.read_csv(csv_path_2)\n",
    "\n",
    "full_data = pd.concat([full_data_1, full_data_2])"
   ]
  },
  {
   "cell_type": "code",
   "execution_count": null,
   "id": "5becff26",
   "metadata": {},
   "outputs": [],
   "source": [
    "selected_columns = [\"ISO3_code\", \"Location\", \"Time\", \"AgeGrp\", \"DeathTotal\"]\n",
    "selected_data = full_data[selected_columns][full_data['ISO3_code'].isin(SELECTED_ISO3s)]\n",
    "selected_data.to_csv(DATA_FOLDER / \"un_mortality.csv\", index=False)"
   ]
  }
 ],
 "metadata": {
  "kernelspec": {
   "display_name": "default",
   "language": "python",
   "name": "python3"
  },
  "language_info": {
   "codemirror_mode": {
    "name": "ipython",
    "version": 3
   },
   "file_extension": ".py",
   "mimetype": "text/x-python",
   "name": "python",
   "nbconvert_exporter": "python",
   "pygments_lexer": "ipython3",
   "version": "3.10.18"
  }
 },
 "nbformat": 4,
 "nbformat_minor": 5
}
