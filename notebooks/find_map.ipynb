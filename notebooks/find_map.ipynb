{
 "cells": [
  {
   "cell_type": "code",
   "execution_count": null,
   "id": "49458f54",
   "metadata": {},
   "outputs": [],
   "source": [
    "from estival.model import BayesianCompartmentalModel\n",
    "from estival import targets as est\n",
    "\n",
    "import tbh.runner_tools as rt\n",
    "from tbh.model import get_tb_model"
   ]
  },
  {
   "cell_type": "code",
   "execution_count": null,
   "id": "5b23d154",
   "metadata": {},
   "outputs": [],
   "source": [
    "params, priors, tv_params = rt.get_parameters_and_priors()\n",
    "model = get_tb_model(rt.DEFAULT_MODEL_CONFIG, tv_params)\n",
    "bcm = BayesianCompartmentalModel(model, params, priors, rt.targets)"
   ]
  },
  {
   "cell_type": "code",
   "execution_count": null,
   "id": "48e6bf06",
   "metadata": {},
   "outputs": [],
   "source": [
    "import nevergrad as ng\n",
    "from estival.wrappers.nevergrad import optimize_model"
   ]
  },
  {
   "cell_type": "code",
   "execution_count": null,
   "id": "4e1af8bb",
   "metadata": {},
   "outputs": [],
   "source": [
    "opt_class = ng.optimizers.NGOpt\n",
    "orunner = optimize_model(bcm, opt_class=opt_class)\n",
    "rec = orunner.minimize(2000)"
   ]
  },
  {
   "cell_type": "code",
   "execution_count": null,
   "id": "b6adbfc2",
   "metadata": {},
   "outputs": [],
   "source": [
    "mle_params = rec.value[1]\n",
    "mle_params\n",
    "res = bcm.run(mle_params)"
   ]
  },
  {
   "cell_type": "code",
   "execution_count": null,
   "id": "212dd8d2",
   "metadata": {},
   "outputs": [],
   "source": [
    "mle_params"
   ]
  },
  {
   "cell_type": "code",
   "execution_count": null,
   "id": "dab13a5a",
   "metadata": {},
   "outputs": [],
   "source": [
    "import matplotlib.pyplot as plt\n",
    "import math\n",
    "\n",
    "# Number of targets\n",
    "n_targets = len(bcm.targets)\n",
    "n_cols = 3\n",
    "n_rows = math.ceil(n_targets / n_cols)\n",
    "\n",
    "fig, axes = plt.subplots(n_rows, n_cols, figsize=(15, 5 * n_rows))\n",
    "axes = axes.flatten()  # make it easy to index\n",
    "\n",
    "for i, (t_name, t) in enumerate(bcm.targets.items()):\n",
    "    ax = axes[i]\n",
    "    \n",
    "    t_data = t.data\n",
    "    series = res.derived_outputs[t_name].loc[2010:2025]\n",
    "    \n",
    "    # Plot main line\n",
    "    series.plot(ax=ax, title=t_name)\n",
    "    \n",
    "    # Plot single-point data as dot\n",
    "    t_data.plot(ax=ax, style=\"o\")\n",
    "    \n",
    "    # Set y-limits\n",
    "    ax.set_ylim(bottom=0)\n",
    "    ymax = series.max()\n",
    "    ax.set_ylim(top=max([1.3 * ymax, t_data.max()]))\n",
    "    ax.set_xlabel(\"Year\")\n",
    "    ax.set_ylabel(\"Value\")\n",
    "\n",
    "# Hide any unused subplots\n",
    "for j in range(i + 1, len(axes)):\n",
    "    fig.delaxes(axes[j])\n",
    "\n",
    "plt.tight_layout()\n",
    "plt.show()"
   ]
  },
  {
   "cell_type": "code",
   "execution_count": null,
   "id": "f939fad2",
   "metadata": {},
   "outputs": [],
   "source": [
    "year = 2025\n",
    "deno = res.derived_outputs['tb_prevalence'].loc[year]\n",
    "for state in [\"subclin_lowinf\", \"clin_lowinf\", \"subclin_inf\", \"clin_inf\"]:\n",
    "    prev = res.derived_outputs[f\"prev_{state}\"].loc[year]\n",
    "    print(f\"% {state}: {round(100 * prev / deno)}\")"
   ]
  },
  {
   "cell_type": "code",
   "execution_count": null,
   "id": "ec3d3b30",
   "metadata": {},
   "outputs": [],
   "source": [
    "year = 2025\n",
    "deno = res.derived_outputs['tbi_prevalence'].loc[year]\n",
    "for state in [\"incipient\", \"contained\", \"cleared\"]:\n",
    "    prev = res.derived_outputs[f\"prev_{state}\"].loc[year]\n",
    "    print(f\"% {state}: {round(100 * prev / deno)}\")"
   ]
  }
 ],
 "metadata": {
  "kernelspec": {
   "display_name": "default",
   "language": "python",
   "name": "python3"
  },
  "language_info": {
   "codemirror_mode": {
    "name": "ipython",
    "version": 3
   },
   "file_extension": ".py",
   "mimetype": "text/x-python",
   "name": "python",
   "nbconvert_exporter": "python",
   "pygments_lexer": "ipython3",
   "version": "3.10.18"
  }
 },
 "nbformat": 4,
 "nbformat_minor": 5
}
