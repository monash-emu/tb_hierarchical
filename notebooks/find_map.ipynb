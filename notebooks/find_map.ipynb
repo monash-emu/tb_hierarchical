{
 "cells": [
  {
   "cell_type": "code",
   "execution_count": null,
   "id": "49458f54",
   "metadata": {},
   "outputs": [],
   "source": [
    "from estival.model import BayesianCompartmentalModel\n",
    "from estival import targets as est\n",
    "\n",
    "import tbh.runner_tools as rt\n",
    "from tbh.model import get_tb_model\n",
    "from tbh.plotting import visualise_mle_params, plot_single_fit"
   ]
  },
  {
   "cell_type": "code",
   "execution_count": null,
   "id": "5b23d154",
   "metadata": {},
   "outputs": [],
   "source": [
    "params, priors, tv_params = rt.get_parameters_and_priors()\n",
    "model = get_tb_model(rt.DEFAULT_MODEL_CONFIG, tv_params)\n",
    "bcm = BayesianCompartmentalModel(model, params, priors, rt.targets)"
   ]
  },
  {
   "cell_type": "code",
   "execution_count": null,
   "id": "48e6bf06",
   "metadata": {},
   "outputs": [],
   "source": [
    "import nevergrad as ng\n",
    "from estival.wrappers.nevergrad import optimize_model"
   ]
  },
  {
   "cell_type": "code",
   "execution_count": null,
   "id": "4e1af8bb",
   "metadata": {},
   "outputs": [],
   "source": [
    "opt_class = ng.optimizers.NGOpt\n",
    "orunner = optimize_model(bcm, opt_class=opt_class)\n",
    "rec = orunner.minimize(10000)"
   ]
  },
  {
   "cell_type": "code",
   "execution_count": null,
   "id": "b6adbfc2",
   "metadata": {},
   "outputs": [],
   "source": [
    "mle_params = rec.value[1]\n",
    "mle_params\n",
    "res = bcm.run(mle_params)"
   ]
  },
  {
   "cell_type": "code",
   "execution_count": null,
   "id": "212dd8d2",
   "metadata": {},
   "outputs": [],
   "source": [
    "mle_params"
   ]
  },
  {
   "cell_type": "code",
   "execution_count": null,
   "id": "6e71441d",
   "metadata": {},
   "outputs": [],
   "source": [
    "modified_params = mle_params | {\n",
    "    \"breakdown_rate\": 0.5,\n",
    "    \"raw_transmission_rate\": 1.0,\n",
    "    \"prev_se_cleared\": 1.,\n",
    "    \"prev_se_contained\": 1.,\n",
    "    \"prev_se_incipient\": 1.,\n",
    "\n",
    "    }\n",
    "modified_res = bcm.run(modified_params)"
   ]
  },
  {
   "cell_type": "code",
   "execution_count": null,
   "id": "ddc4339f",
   "metadata": {},
   "outputs": [],
   "source": [
    "plot_single_fit(bcm, mle_params)"
   ]
  },
  {
   "cell_type": "code",
   "execution_count": null,
   "id": "bfff832a",
   "metadata": {},
   "outputs": [],
   "source": [
    "plot_single_fit(bcm, modified_params)"
   ]
  },
  {
   "cell_type": "code",
   "execution_count": null,
   "id": "f939fad2",
   "metadata": {},
   "outputs": [],
   "source": [
    "year = 2025\n",
    "deno = res.derived_outputs['tb_prevalence'].loc[year]\n",
    "for state in [\"subclin_lowinf\", \"clin_lowinf\", \"subclin_inf\", \"clin_inf\"]:\n",
    "    prev = res.derived_outputs[f\"prev_{state}\"].loc[year]\n",
    "    print(f\"% {state}: {round(100 * prev / deno)}\")"
   ]
  },
  {
   "cell_type": "code",
   "execution_count": null,
   "id": "ec3d3b30",
   "metadata": {},
   "outputs": [],
   "source": [
    "year = 2025\n",
    "deno = res.derived_outputs['tbi_prevalence'].loc[year]\n",
    "for state in [\"incipient\", \"contained\", \"cleared\"]:\n",
    "    prev = res.derived_outputs[f\"prev_{state}\"].loc[year]\n",
    "    print(f\"% {state}: {round(100 * prev / deno)}\")"
   ]
  },
  {
   "cell_type": "code",
   "execution_count": null,
   "id": "606f20cf",
   "metadata": {},
   "outputs": [],
   "source": [
    "visualise_mle_params(bcm.priors, mle_params)"
   ]
  },
  {
   "cell_type": "code",
   "execution_count": null,
   "id": "d315ab80",
   "metadata": {},
   "outputs": [],
   "source": []
  },
  {
   "cell_type": "code",
   "execution_count": null,
   "id": "6681b506",
   "metadata": {},
   "outputs": [],
   "source": []
  },
  {
   "cell_type": "code",
   "execution_count": null,
   "id": "fa5a62f1",
   "metadata": {},
   "outputs": [],
   "source": []
  }
 ],
 "metadata": {
  "kernelspec": {
   "display_name": "default",
   "language": "python",
   "name": "python3"
  },
  "language_info": {
   "codemirror_mode": {
    "name": "ipython",
    "version": 3
   },
   "file_extension": ".py",
   "mimetype": "text/x-python",
   "name": "python",
   "nbconvert_exporter": "python",
   "pygments_lexer": "ipython3",
   "version": "3.10.18"
  }
 },
 "nbformat": 4,
 "nbformat_minor": 5
}
