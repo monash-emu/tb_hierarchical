{
 "cells": [
  {
   "cell_type": "markdown",
   "id": "2b113c4c",
   "metadata": {},
   "source": [
    "### Get function to plot"
   ]
  },
  {
   "cell_type": "code",
   "execution_count": null,
   "id": "e9f88652",
   "metadata": {},
   "outputs": [],
   "source": [
    "from tbh.runner_tools import DEFAULT_ANALYSIS_CONFIG\n",
    "scenario_1 = DEFAULT_ANALYSIS_CONFIG['scenarios'][0]\n",
    "scr_prg = scenario_1.scr_prgs[0]\n",
    "func = scr_prg.raw_screening_func"
   ]
  },
  {
   "cell_type": "markdown",
   "id": "86f4ffb2",
   "metadata": {},
   "source": [
    "### Plot function"
   ]
  },
  {
   "cell_type": "code",
   "execution_count": null,
   "id": "960475cc",
   "metadata": {},
   "outputs": [],
   "source": [
    "from summer2.functions import time as stf\n",
    "import numpy as np\n",
    "import pandas as pd\n",
    "ft = stf.get_time_callable(func)\n",
    "tvals = np.linspace(2024,2029,101)\n",
    "yvals = ft(tvals)\n",
    "\n",
    "pd.Series(index=tvals,data=yvals).plot()"
   ]
  },
  {
   "cell_type": "code",
   "execution_count": null,
   "id": "da7243d5",
   "metadata": {},
   "outputs": [],
   "source": []
  }
 ],
 "metadata": {
  "kernelspec": {
   "display_name": "default",
   "language": "python",
   "name": "python3"
  },
  "language_info": {
   "codemirror_mode": {
    "name": "ipython",
    "version": 3
   },
   "file_extension": ".py",
   "mimetype": "text/x-python",
   "name": "python",
   "nbconvert_exporter": "python",
   "pygments_lexer": "ipython3",
   "version": "3.10.18"
  }
 },
 "nbformat": 4,
 "nbformat_minor": 5
}
