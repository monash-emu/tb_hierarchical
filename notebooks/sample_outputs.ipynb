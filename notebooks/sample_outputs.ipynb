{
 "cells": [
  {
   "cell_type": "code",
   "execution_count": null,
   "id": "4f589798",
   "metadata": {},
   "outputs": [],
   "source": [
    "import arviz as az\n",
    "import yaml\n",
    "from tbh.paths import OUTPUT_PARENT_FOLDER, DATA_FOLDER\n",
    "from tbh import runner_tools as rt\n",
    "from tbh.model import get_tb_model\n",
    "from estival.model import BayesianCompartmentalModel\n",
    "\n",
    "from matplotlib import pyplot as plt \n",
    "plt.style.use(\"ggplot\")"
   ]
  },
  {
   "cell_type": "code",
   "execution_count": null,
   "id": "1dfd37c7",
   "metadata": {},
   "outputs": [],
   "source": [
    "analysis_path = OUTPUT_PARENT_FOLDER / \"46127547_full_analysis_3scenarios\" / \"task_1\"\n",
    "idata = az.from_netcdf(analysis_path / \"idata.nc\")\n",
    "\n",
    "with open(analysis_path / \"timings.yaml\" , \"r\") as f:\n",
    "    docs = list(yaml.safe_load_all(f))\n",
    "\n",
    "model_config = docs[1]\n",
    "analysis_config = docs[2]"
   ]
  },
  {
   "cell_type": "code",
   "execution_count": null,
   "id": "2820040b",
   "metadata": {},
   "outputs": [],
   "source": [
    "params, priors, tv_params = rt.get_parameters_and_priors()\n",
    "\n",
    "model = get_tb_model(model_config, tv_params)\n",
    "bcm = BayesianCompartmentalModel(model, params, priors, rt.targets)\n",
    "\n",
    "bcm_dict = {\"baseline\": bcm}\n",
    "for sc in analysis_config['scenarios']:\n",
    "    assert sc != \"baseline\", \"Please use scenario name different from 'baseline'\"\n",
    "    sc_params, _, sc_tv_params = rt.get_parameters_and_priors(DATA_FOLDER / f\"{sc}.xlsx\")\n",
    "    sc_params, sc_tv_params = params | sc_params, tv_params | sc_tv_params\n",
    "    sc_model = get_tb_model(model_config, sc_tv_params)\n",
    "    sc_bcm = BayesianCompartmentalModel(sc_model, sc_params, priors, rt.targets)\n",
    "    bcm_dict[sc] = sc_bcm"
   ]
  },
  {
   "cell_type": "code",
   "execution_count": null,
   "id": "c4a69898",
   "metadata": {},
   "outputs": [],
   "source": [
    "full_runs, unc_dfs = rt.run_full_runs(\n",
    "    bcm_dict, idata, analysis_config['burn_in'], 100\n",
    ")"
   ]
  },
  {
   "cell_type": "code",
   "execution_count": null,
   "id": "cbb9657c",
   "metadata": {},
   "outputs": [],
   "source": [
    "full_runs['scenario_1'].results.columns.get_level_values(0).unique()"
   ]
  },
  {
   "cell_type": "code",
   "execution_count": null,
   "id": "6eac2543",
   "metadata": {},
   "outputs": [],
   "source": [
    "for sc in full_runs:\n",
    "    df = full_runs[sc].results\n",
    "    df.to_csv(analysis_path / f\"outputs_{sc}.csv\")"
   ]
  }
 ],
 "metadata": {
  "kernelspec": {
   "display_name": "default",
   "language": "python",
   "name": "python3"
  },
  "language_info": {
   "codemirror_mode": {
    "name": "ipython",
    "version": 3
   },
   "file_extension": ".py",
   "mimetype": "text/x-python",
   "name": "python",
   "nbconvert_exporter": "python",
   "pygments_lexer": "ipython3",
   "version": "3.10.18"
  }
 },
 "nbformat": 4,
 "nbformat_minor": 5
}
