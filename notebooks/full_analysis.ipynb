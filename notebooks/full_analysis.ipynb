{
 "cells": [
  {
   "cell_type": "code",
   "execution_count": null,
   "id": "83d006ca",
   "metadata": {},
   "outputs": [],
   "source": [
    "from tbh import runner_tools as rt \n",
    "from tbh.paths import OUTPUT_PARENT_FOLDER\n",
    "\n",
    "from importlib import reload\n",
    "reload(rt);"
   ]
  },
  {
   "cell_type": "code",
   "execution_count": null,
   "id": "b21e1285",
   "metadata": {},
   "outputs": [],
   "source": [
    "analysis_name = \"local_\" + \"test1\"\n",
    "\n",
    "analysis_config = {\n",
    "    # Metropolis config\n",
    "    'chains': 4,\n",
    "    'tune': 50,\n",
    "    'draws': 200,\n",
    "\n",
    "    # Full runs config\n",
    "    'burn_in': 100,\n",
    "    'full_runs_samples': 100\n",
    "}"
   ]
  },
  {
   "cell_type": "code",
   "execution_count": null,
   "id": "741e0ca3",
   "metadata": {},
   "outputs": [],
   "source": [
    "rt.run_full_analysis(analysis_config=analysis_config, output_folder=OUTPUT_PARENT_FOLDER / analysis_name)"
   ]
  }
 ],
 "metadata": {
  "kernelspec": {
   "display_name": "default",
   "language": "python",
   "name": "python3"
  },
  "language_info": {
   "codemirror_mode": {
    "name": "ipython",
    "version": 3
   },
   "file_extension": ".py",
   "mimetype": "text/x-python",
   "name": "python",
   "nbconvert_exporter": "python",
   "pygments_lexer": "ipython3",
   "version": "3.10.17"
  }
 },
 "nbformat": 4,
 "nbformat_minor": 5
}
