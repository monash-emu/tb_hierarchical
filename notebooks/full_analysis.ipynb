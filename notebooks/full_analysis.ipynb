{
 "cells": [
  {
   "cell_type": "code",
   "execution_count": null,
   "id": "7cf58284",
   "metadata": {},
   "outputs": [],
   "source": [
    "import multiprocessing as mp\n",
    "mp.set_start_method(\"spawn\")  # previously \"forkserver\"\n",
    "\n",
    "import pytensor\n",
    "pytensor.config.cxx = '/usr/bin/clang++'"
   ]
  },
  {
   "cell_type": "code",
   "execution_count": null,
   "id": "96b3fca4",
   "metadata": {},
   "outputs": [],
   "source": [
    "from pathlib import Path\n",
    "from tbh.paths import REPO_ROOT_PATH\n",
    "from tbh import runner_tools as rt "
   ]
  },
  {
   "cell_type": "code",
   "execution_count": null,
   "id": "00c8b70b",
   "metadata": {},
   "outputs": [],
   "source": [
    "\n",
    "output_folder = REPO_ROOT_PATH / \"notebooks\" / \"test_outputs\" / \"test_full_analysis_new_scs\"\n",
    "rt.run_full_analysis(analysis_config=rt.TEST_ANALYSIS_CONFIG | {'cores': 1, 'chains':2}, output_folder=output_folder)"
   ]
  },
  {
   "cell_type": "code",
   "execution_count": null,
   "id": "c66cec7d",
   "metadata": {},
   "outputs": [],
   "source": []
  }
 ],
 "metadata": {
  "kernelspec": {
   "display_name": "default",
   "language": "python",
   "name": "python3"
  },
  "language_info": {
   "codemirror_mode": {
    "name": "ipython",
    "version": 3
   },
   "file_extension": ".py",
   "mimetype": "text/x-python",
   "name": "python",
   "nbconvert_exporter": "python",
   "pygments_lexer": "ipython3",
   "version": "3.10.18"
  }
 },
 "nbformat": 4,
 "nbformat_minor": 5
}
