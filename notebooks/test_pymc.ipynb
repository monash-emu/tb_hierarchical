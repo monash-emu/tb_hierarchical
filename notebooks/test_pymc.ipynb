{
 "cells": [
  {
   "cell_type": "code",
   "execution_count": null,
   "id": "6df62885",
   "metadata": {},
   "outputs": [],
   "source": [
    "from tbh import runner_tools as rt \n",
    "from tbh import plotting as pl\n",
    "\n",
    "import multiprocessing as mp\n",
    "\n",
    "mp.set_start_method(\"spawn\")  # previously \"forkserver\"\n",
    "\n",
    "studies_dict = rt.DEFAULT_STUDIES_DICT\n",
    "params = rt.get_full_default_params(studies_dict)\n",
    "\n",
    "# Metropolis config\n",
    "n_cores = 1 # Requesting multiple cores won't work on a mac\n",
    "tune = 50\n",
    "draws = 205\n",
    "\n",
    "# Full runs config\n",
    "burn_in = int(draws / 2.) # 10000\n",
    "full_runs_samples = 100\n",
    "\n",
    "import pytensor\n",
    "pytensor.config.cxx = '/usr/bin/clang++'\n",
    "\n",
    "\n",
    "\n",
    "bcm = rt.get_bcm_object(rt.DEFAULT_MODEL_CONFIG, studies_dict, params)\n",
    "idata = rt.run_metropolis_calibration(bcm, draws=draws, tune=tune, cores=n_cores)\n",
    "import arviz as az\n",
    "\n",
    "rhats = az.rhat(idata)\n",
    "burnt_rhats = az.rhat(idata.sel(draw=range(burn_in, idata.sample_stats.sizes['draw'])))\n",
    "print(f\"Max R_hat for full chains: {rhats.to_array().max().item()}\")\n",
    "print(f\"Max R_hat for burnt chains: {burnt_rhats.to_array().max().item()}\")\n",
    "\n",
    "full_runs, unc_df = rt.run_full_runs(bcm, idata, burn_in, full_runs_samples)\n",
    "\n",
    "from pathlib import Path \n",
    "output_folder_path = Path.cwd() / \"test_outputs\"\n",
    "\n",
    "pl.plot_traces(idata, burn_in, output_folder_path)\n",
    "\n",
    "pl.plot_post_prior_comparison(idata, burn_in, list(bcm.priors.keys()), list(bcm.priors.values()), n_col=4, output_folder_path=output_folder_path)\n",
    "\n",
    "import matplotlib.pyplot as plt\n",
    "\n",
    "selected_outputs = bcm.targets.keys()\n",
    "\n",
    "for output in selected_outputs:\n",
    "    fig, ax = plt.subplots()\n",
    "    pl.plot_model_fit_with_uncertainty(ax, unc_df, output, bcm, x_min=2010)\n",
    "\n",
    "    if output_folder_path:\n",
    "        plt.savefig(output_folder_path / f\"{output}.jpg\", facecolor=\"white\", bbox_inches='tight')\n",
    "        plt.close()"
   ]
  }
 ],
 "metadata": {
  "kernelspec": {
   "display_name": "default",
   "language": "python",
   "name": "python3"
  },
  "language_info": {
   "codemirror_mode": {
    "name": "ipython",
    "version": 3
   },
   "file_extension": ".py",
   "mimetype": "text/x-python",
   "name": "python",
   "nbconvert_exporter": "python",
   "pygments_lexer": "ipython3",
   "version": "3.10.18"
  }
 },
 "nbformat": 4,
 "nbformat_minor": 5
}
