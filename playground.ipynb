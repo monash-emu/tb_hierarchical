{
 "cells": [
  {
   "cell_type": "code",
   "execution_count": null,
   "metadata": {},
   "outputs": [],
   "source": [
    "from model import get_tb_model"
   ]
  },
  {
   "cell_type": "code",
   "execution_count": null,
   "metadata": {},
   "outputs": [],
   "source": [
    "model_config = {\n",
    "    \"start_time\": 1850,\n",
    "    \"end_time\": 2050,\n",
    "    \"seed\": 100,   \n",
    "}"
   ]
  },
  {
   "cell_type": "code",
   "execution_count": null,
   "metadata": {},
   "outputs": [],
   "source": [
    "studies_dict = {\n",
    "    \"study_1\": {\n",
    "        \"pop_size\": 2.e6,\n",
    "    },\n",
    "    \"study_2\": {\n",
    "        \"pop_size\": 1.e6,\n",
    "    }    \n",
    "}"
   ]
  },
  {
   "cell_type": "code",
   "execution_count": null,
   "metadata": {},
   "outputs": [],
   "source": [
    "model = get_tb_model(model_config, studies_dict)"
   ]
  },
  {
   "cell_type": "code",
   "execution_count": null,
   "metadata": {},
   "outputs": [],
   "source": [
    "model.compartments"
   ]
  },
  {
   "cell_type": "code",
   "execution_count": null,
   "metadata": {},
   "outputs": [],
   "source": [
    "model.get_input_parameters()"
   ]
  },
  {
   "cell_type": "code",
   "execution_count": null,
   "metadata": {},
   "outputs": [],
   "source": [
    "params = {\n",
    "    # Study-specific parameters\n",
    "    'transmission_rateXstudy_1': 10,\n",
    "    'transmission_rateXstudy_2': 12,\n",
    "\n",
    "    'activation_rate_early': .1,\n",
    "    'activation_rate_late': .001,\n",
    "    'stabilisation_rate': 1.,\n",
    "\n",
    "    'current_passive_detection_rate': 1.,\n",
    "\n",
    "    # Universal parameters\n",
    "    'rr_reinfection_latent_late': .2,\n",
    "    'rr_reinfection_recovered': 1.,\n",
    "    'self_recovery_rate': .2,\n",
    "    'tb_death_rate': .2,\n",
    "    'tx_duration': .5,\n",
    "    'tx_prop_death': .04\n",
    "}\n",
    "model.run(params)"
   ]
  },
  {
   "cell_type": "code",
   "execution_count": null,
   "metadata": {},
   "outputs": [],
   "source": [
    "do_df = model.get_derived_outputs_df()\n",
    "do_df[['study_1Xltbi_prop', 'study_2Xltbi_prop']].plot()\n",
    "do_df[['study_1Xpopulation', 'study_2Xpopulation']].plot()"
   ]
  },
  {
   "cell_type": "code",
   "execution_count": null,
   "metadata": {},
   "outputs": [],
   "source": [
    "model.flows"
   ]
  },
  {
   "cell_type": "code",
   "execution_count": null,
   "metadata": {},
   "outputs": [],
   "source": []
  }
 ],
 "metadata": {
  "kernelspec": {
   "display_name": "summer2",
   "language": "python",
   "name": "python3"
  },
  "language_info": {
   "codemirror_mode": {
    "name": "ipython",
    "version": 3
   },
   "file_extension": ".py",
   "mimetype": "text/x-python",
   "name": "python",
   "nbconvert_exporter": "python",
   "pygments_lexer": "ipython3",
   "version": "3.10.11"
  }
 },
 "nbformat": 4,
 "nbformat_minor": 2
}
